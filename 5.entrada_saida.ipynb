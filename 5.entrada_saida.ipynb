{
 "cells": [
  {
   "cell_type": "markdown",
   "metadata": {},
   "source": [
    "# Entrada e Saída"
   ]
  },
  {
   "attachments": {},
   "cell_type": "markdown",
   "metadata": {},
   "source": [
    "Existem várias maneiras de apresentar a saída de um programa; os dados podem ser exibidos em forma legível para seres humanos, ou escritos em arquivos para uso posterior."
   ]
  },
  {
   "attachments": {},
   "cell_type": "markdown",
   "metadata": {},
   "source": [
    "## 1. Refinando a Formatação de Saída"
   ]
  },
  {
   "attachments": {},
   "cell_type": "markdown",
   "metadata": {},
   "source": [
    "## 2. Leitura e Escrita de Arquivos"
   ]
  },
  {
   "attachments": {},
   "cell_type": "markdown",
   "metadata": {},
   "source": [
    "A função [open()](https://docs.python.org/pt-br/3/library/functions.html#open) retorna um objeto arquivo, e é mais utilizado com dois argumentos posicionais e um argumento nomeado: `open(filename, mode, encoding=None)`."
   ]
  },
  {
   "cell_type": "code",
   "execution_count": null,
   "metadata": {},
   "outputs": [],
   "source": [
    "arq = open('resultado.txt', 'w', encoding=\"utf-8\")\n",
    "arq.close()"
   ]
  },
  {
   "attachments": {},
   "cell_type": "markdown",
   "metadata": {},
   "source": [
    "O primeiro argumento é uma string contendo o nome do arquivo. O segundo argumento é outra string, contendo alguns caracteres que descrevem o modo como o arquivo será usado.\n",
    "- `r` quando o arquivo será apenas lido;\n",
    "- `w` para escrever (se o arquivo já existir seu conteúdo prévio será apagado);\n",
    "- `a` para abrir o arquivo para adição e qualquer escrita será adicionada ao final do arquivo;\n",
    "- `r+` abre o arquivo tanto para leitura como para escrita;\n",
    "\n",
    "O argumento modo é opcional, em caso de omissão será assumido `r`."
   ]
  },
  {
   "attachments": {},
   "cell_type": "markdown",
   "metadata": {},
   "source": [
    "Normalmente, arquivos são abertos no modo texto, o que significa que você lê strings de e para o arquivo, o qual está em um codificação específica. Se a codificação não for especificada, o padrão irá depender da plataforma. Como o UTF-8 é o padrão mais moderno, `encoding=\"utf-8\"` é recomendado a não ser que você precise utilizar uma codificação diferente.\n",
    "\n",
    "Adicionando `b` ao modo irá abrir o arquivo em modo binário. Dados no modo binário são lidos e escritos como objetos bytes. Você não pode especificar a codificação quando estiver abrindo os arquivos em modo binário."
   ]
  },
  {
   "attachments": {},
   "cell_type": "markdown",
   "metadata": {},
   "source": [
    "Em modo texto, o padrão durante a leitura é converter terminadores de linha específicos da plataforma (`\\n` no Unix, `\\r\\n` no Windows) para apenas `\\n`. Ao escrever no modo de texto, o padrão é converter as ocorrências de \\n de volta para os finais de linha específicos da plataforma. Essa modificação de bastidores nos dados do arquivo é adequada para arquivos de texto, mas corromperá dados binários, como arquivos `JPEG` ou `EXE`. Tenha muito cuidado para só usar o modo binário, ao ler e gravar esses arquivos."
   ]
  },
  {
   "attachments": {},
   "cell_type": "markdown",
   "metadata": {},
   "source": [
    "É uma boa prática usar a palavra-chave `with` ao lidar com arquivos. A vantagem é que o arquivo é fechado corretamente após o término de sua utilização, mesmo que uma exceção seja levantada em algum momento. Usar `with` também é muito mais curto que escrever seu bloco equivalente `try...except...finally`."
   ]
  },
  {
   "attachments": {},
   "cell_type": "markdown",
   "metadata": {},
   "source": [
    "Depois que um arquivo é fechado, seja por uma instrução `with` ou chamando `arq.close()`, as tentativas de usar o arquivo falharão automaticamente."
   ]
  },
  {
   "attachments": {},
   "cell_type": "markdown",
   "metadata": {},
   "source": [
    "### 2.1. Métodos de Objetos Arquivo"
   ]
  },
  {
   "attachments": {},
   "cell_type": "markdown",
   "metadata": {},
   "source": [
    "Para simplificar, vamos usar o arquivo `aneis_poder.txt` para os exemplos."
   ]
  },
  {
   "attachments": {},
   "cell_type": "markdown",
   "metadata": {},
   "source": [
    "Para ler o conteúdo de um arquivo, chamamos `arq.read(tamanho)`, que lê um punhado de dados devolvendo-os como uma string (em modo texto) ou bytes (em modo binário). `tamanho` é um argumento numérico opcional.<br>\n",
    "Quando tamanho é omitido ou negativo, todo o conteúdo do arquivo é lido e devolvido; se o arquivo é duas vezes maior que memória da máquina, o problema é seu (ta aí um bom desafio...). Caso contrário, o máximo tamanho de caracteres (em modo texto) ou tamanho bytes (em modo binário) são lidos e devolvidos. Se o fim do arquivo for atingido, f.read() devolve uma string vazia ('')."
   ]
  },
  {
   "cell_type": "code",
   "execution_count": null,
   "metadata": {},
   "outputs": [],
   "source": [
    "arq = open('aneis_poder.txt', 'r', encoding='utf-8')\n",
    "print(arq.read())\n",
    "arq.close()"
   ]
  },
  {
   "attachments": {},
   "cell_type": "markdown",
   "metadata": {},
   "source": [
    "O método `arq.readline()` lê uma única linha do arquivo; o caractere de quebra de linha (`\\n`) é mantido ao final da string, e só é omitido na última linha do arquivo, se o arquivo não terminar com uma quebra de linha. Isso elimina a ambiguidade do valor retornado; se `arq.readline()` retorna uma string vazia, o fim do arquivo foi atingido. Linhas em branco são representadas por um `\\n` – uma string contendo apenas o caractere terminador de linha."
   ]
  },
  {
   "cell_type": "code",
   "execution_count": null,
   "metadata": {},
   "outputs": [],
   "source": [
    "arq = open('aneis_poder.txt', 'r', encoding='utf-8')\n",
    "print(arq.readline())\n",
    "print(arq.readline())\n",
    "arq.close()"
   ]
  },
  {
   "attachments": {},
   "cell_type": "markdown",
   "metadata": {},
   "source": [
    "Uma maneira alternativa de ler linhas do arquivo é iterar diretamente pelo objeto arquivo. É eficiente, rápido e resulta em código mais simples."
   ]
  },
  {
   "cell_type": "code",
   "execution_count": null,
   "metadata": {},
   "outputs": [],
   "source": [
    "arq = open('aneis_poder.txt', 'r', encoding='utf-8')\n",
    "for linha in arq:\n",
    "    # marcamos o end como '' para não imprimir linhas em branco pela repetição \n",
    "    # do \\n do arquivo e do print\n",
    "    print(linha, end='')\n",
    "arq.close()"
   ]
  },
  {
   "attachments": {},
   "cell_type": "markdown",
   "metadata": {},
   "source": [
    "Se desejar ler todas as linhas de um arquivo em uma lista, pode-se usar `list(arq)` ou `arq.readlines()`."
   ]
  },
  {
   "cell_type": "code",
   "execution_count": null,
   "metadata": {},
   "outputs": [],
   "source": [
    "arq = open('aneis_poder.txt', 'r', encoding='utf-8')\n",
    "print(list(arq))\n",
    "arq.close()"
   ]
  },
  {
   "cell_type": "code",
   "execution_count": null,
   "metadata": {},
   "outputs": [],
   "source": [
    "arq = open('aneis_poder.txt', 'r', encoding='utf-8')\n",
    "print(arq.readlines())\n",
    "arq.close()"
   ]
  },
  {
   "attachments": {},
   "cell_type": "markdown",
   "metadata": {},
   "source": [
    "O método `arq.write(string)` escreve o conteúdo de string para o arquivo, retornando o número de caracteres escritos."
   ]
  },
  {
   "cell_type": "code",
   "execution_count": null,
   "metadata": {},
   "outputs": [],
   "source": [
    "arq = open('resultado.txt', 'w', encoding='utf-8')\n",
    "print(arq.write('É um teste\\n!'))\n",
    "arq.close()"
   ]
  },
  {
   "attachments": {},
   "cell_type": "markdown",
   "metadata": {},
   "source": [
    "Outros tipos de objetos precisam ser convertidos – seja para uma string (em modo texto) ou para bytes (em modo binário) – antes de escrevê-los."
   ]
  },
  {
   "cell_type": "code",
   "execution_count": null,
   "metadata": {},
   "outputs": [],
   "source": [
    "arq = open('resultado.txt', 'w', encoding='utf-8')\n",
    "tupla = ('a resposta da vida', 42)\n",
    "print(arq.write(str(tupla)))\n",
    "arq.close()"
   ]
  },
  {
   "attachments": {},
   "cell_type": "markdown",
   "metadata": {},
   "source": [
    "O método `arq.tell()` retorna um inteiro dando a posição atual do objeto arquivo, no arquivo representado, como número de bytes desde o início do arquivo, no modo binário, e um número ininteligível, quando no modo de texto."
   ]
  },
  {
   "attachments": {},
   "cell_type": "markdown",
   "metadata": {},
   "source": [
    "Para mudar a posição, use `arq.seek(offset, onde)`. A nova posição é computada pela soma do deslocamento `offset` a um ponto de referência especificado pelo argumento `onde`. Se o valor de `onde` é 0,a referência é o início do arquivo, 1 refere-se à posição atual, e 2 refere-se ao fim do arquivo. Este argumento pode ser omitido e o valor padrão é 0, usando o início do arquivo como referência."
   ]
  },
  {
   "cell_type": "code",
   "execution_count": null,
   "metadata": {},
   "outputs": [],
   "source": [
    "arq = open('resultado.txt', 'rb+')\n",
    "print(arq.write(b'0123456789abcdef'))\n",
    "print(arq.seek(5)) # vai para o sexto byte no arquivo\n",
    "print(arq.seek(1))\n",
    "print(arq.seek(-3,2)) # vai para o terceiro byte no antes do fim\n",
    "print(arq.read(1))"
   ]
  },
  {
   "attachments": {},
   "cell_type": "markdown",
   "metadata": {},
   "source": [
    "Em arquivos texto (abertos sem um `b`, em modo string), somente `seeks` relativos ao início do arquivo serão permitidos (exceto se for indicado o final do arquivo, com `seek(0, 2)`) e o único valor válido para `offset` são aqueles retornados por chamada à `arq.tell()`, ou zero. Qualquer outro valor para `offset` produz um comportamento indefinido.\n",
    "\n",
    "Objetos arquivo tem alguns método adicionais, como `isatty()` e `truncate()` que não são usados com frequência; consulte a Biblioteca de Referência para um guia completo de objetos arquivo."
   ]
  }
 ],
 "metadata": {
  "kernelspec": {
   "display_name": ".venv",
   "language": "python",
   "name": "python3"
  },
  "language_info": {
   "codemirror_mode": {
    "name": "ipython",
    "version": 3
   },
   "file_extension": ".py",
   "mimetype": "text/x-python",
   "name": "python",
   "nbconvert_exporter": "python",
   "pygments_lexer": "ipython3",
   "version": "3.11.1"
  },
  "orig_nbformat": 4,
  "vscode": {
   "interpreter": {
    "hash": "1c99f561ca1a717b60f7deeca363b5de64a153a33138772a1efbe72b24e89a8e"
   }
  }
 },
 "nbformat": 4,
 "nbformat_minor": 2
}
