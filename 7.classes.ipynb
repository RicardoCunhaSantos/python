{
 "cells": [
  {
   "attachments": {},
   "cell_type": "markdown",
   "metadata": {},
   "source": [
    "# Classes"
   ]
  },
  {
   "attachments": {},
   "cell_type": "markdown",
   "metadata": {},
   "source": [
    "## Resumo"
   ]
  },
  {
   "attachments": {},
   "cell_type": "markdown",
   "metadata": {},
   "source": [
    "Classes proporcionam uma forma de organizar dados e funcionalidades juntos. Criar uma nova classe cria um novo `tipo` de objeto, permitindo que novas `instâncias` desse tipo sejam produzidas. Cada instância da classe pode ter atributos anexados a ela, para manter seu estado. Instâncias da classe também podem ter métodos (definidos pela classe) para modificar seu estado.\n",
    "\n",
    "Em comparação com outras linguagens de programação, o mecanismo de classes de Python introduz a programação orientada a objetos sem acrescentar muitas novidades de sintaxe ou semântica. É uma mistura de mecanismos equivalentes encontrados em C++ e Modula-3. As classes em Python oferecem todas as características tradicionais da programação orientada a objetos: o mecanismo de herança permite múltiplas classes base (herança múltipla), uma classe derivada pode sobrescrever quaisquer métodos de uma classe ancestral e um método pode invocar outro método homônimo de uma classe ancestral. Objetos podem armazenar uma quantidade arbitrária de dados de qualquer tipo. Assim como acontece com os módulos, as classes fazem parte da natureza dinâmica de Python: são criadas em tempo de execução, e podem ser alteradas após sua criação.\n",
    "\n",
    "Usando a terminologia de C++, todos os membros de uma classe (incluindo dados) são públicos (veja exceção abaixo Variáveis privadas), e todos as funções membro são virtuais. Como em Modula-3, não existem atalhos para referenciar membros do objeto de dentro dos seus métodos: o método (função definida em uma classe) é declarado com um primeiro argumento explícito representando o objeto (instância da classe), que é fornecido implicitamente pela chamada ao método. Como em Smalltalk, classes são objetos. Isso fornece uma semântica para importar e renomear. Ao contrário de C++ ou Modula-3, tipos pré-definidos podem ser utilizados como classes base para extensões por herança pelo usuário. Também, como em C++, a maioria dos operadores (aritméticos, indexação, etc) podem ser redefinidos por instâncias de classe."
   ]
  },
  {
   "attachments": {},
   "cell_type": "markdown",
   "metadata": {},
   "source": [
    "## 1. Uma palavra sobre nomes e objetos"
   ]
  },
  {
   "attachments": {},
   "cell_type": "markdown",
   "metadata": {},
   "source": [
    "Objetos têm individualidade, e vários nomes (em diferentes escopos) podem ser vinculados a um mesmo objeto. Isso é chamado de apelidamento em outras linguagens. Geralmente, esta característica não é muito apreciada, e pode ser ignorada com segurança ao lidar com tipos imutáveis (números, strings, tuplas). Entretanto, apelidamento pode ter um efeito surpreendente na semântica do código Python envolvendo objetos mutáveis como listas, dicionários e a maioria dos outros tipos. Isso pode ser usado em benefício do programa, porque os apelidos funcionam de certa forma como ponteiros. Por exemplo, passar um objeto como argumento é barato, pois só um ponteiro é passado na implementação; e se uma função modifica um objeto passado como argumento, o invocador verá a mudança — isso elimina a necessidade de ter dois mecanismos de passagem de parâmetros como em Pascal."
   ]
  },
  {
   "attachments": {},
   "cell_type": "markdown",
   "metadata": {},
   "source": [
    "## 2. Escopos e espaços de nomes (NameSpaces) do Python"
   ]
  },
  {
   "attachments": {},
   "cell_type": "markdown",
   "metadata": {},
   "source": [
    "Antes de introduzir classes, é preciso falar das regras de escopo em Python. Definições de classe fazem alguns truques com espaços de nomes. Portanto, primeiro é preciso entender claramente como escopos e espaços de nomes funcionam, para entender o que está acontecendo. Esse conhecimento é muito útil para qualquer programador Python avançado."
   ]
  },
  {
   "attachments": {},
   "cell_type": "markdown",
   "metadata": {},
   "source": [
    "Vamos começar com algumas definições."
   ]
  },
  {
   "attachments": {},
   "cell_type": "markdown",
   "metadata": {},
   "source": [
    "Um espaço de nomes é um mapeamento que associa nomes a objetos. Atualmente, são implementados como dicionários em Python, mas isso não é perceptível (a não ser pelo desempenho), e pode mudar no futuro.<br>\n",
    "Exemplos de espaços de nomes são :\n",
    "- o conjunto de nomes pré-definidos (funções como [abs()](https://docs.python.org/pt-br/3/library/functions.html#abs) e as exceções pré-definidas);\n",
    "- nomes globais em um módulo;\n",
    "- e nomes locais na invocação de uma função.\n",
    "\n",
    "De certa forma, os atributos de um objeto também formam um espaço de nomes. O mais importante é saber que não existe nenhuma relação entre nomes em espaços de nomes distintos. Por exemplo, dois módulos podem definir uma função de nome maximize sem confusão — usuários dos módulos devem prefixar a função com o nome do módulo, para evitar colisão."
   ]
  },
  {
   "attachments": {},
   "cell_type": "markdown",
   "metadata": {},
   "source": [
    "A propósito, utilizo a palavra `atributo` para qualquer nome depois de um ponto. Na expressão `z.real`, por exemplo, `real` é um atributo do objeto `z`. Estritamente falando, referências para nomes em módulos são atributos: na expressão `modname.funcname`, `modname` é um objeto módulo e `funcname` é um de seus atributos. Neste caso, existe um mapeamento direto entre os atributos de um módulo e os nomes globais definidos no módulo: eles compartilham o mesmo espaço de nomes!"
   ]
  },
  {
   "attachments": {},
   "cell_type": "markdown",
   "metadata": {},
   "source": [
    "Atributos podem ser somente *leitura* ou para *leitura* e *escrita*. No segundo caso, é possível atribuir um novo valor ao atributo. Atributos de módulos são passíveis de atribuição: você pode escrever `modname.the_answer = 42`. Atributos que aceitam escrita também podem ser apagados através da instrução [del](https://docs.python.org/pt-br/3/reference/simple_stmts.html#del). Por exemplo, `del modname.the_answer` removerá o atributo `the_answer` do objeto referenciado por `modname`."
   ]
  },
  {
   "attachments": {},
   "cell_type": "markdown",
   "metadata": {},
   "source": [
    "Espaços de nomes são criados em momentos diferentes e possuem diferentes ciclos de vida. O espaço de nomes que contém os nomes **built-in** é criado quando o interpretador inicializa e nunca é removido. O espaço de nomes global de um módulo é criado quando a definição do módulo é lida, e normalmente duram até a finalização do interpretador. Os comandos executados pela invocação do interpretador, pela leitura de um script como programa principal, ou interativamente, são parte do módulo chamado [__main__](https://docs.python.org/pt-br/3/library/__main__.html#module-__main__), e portanto possuem seu próprio espaço de nomes. (Os nomes **built-in** possuem seu próprio espaço de nomes no módulo chamado [builtins](https://docs.python.org/pt-br/3/library/builtins.html#module-builtins)).\n",
    "\n",
    "O espaço de nomes local de uma função é criado quando a função é invocada, e apagado quando a função retorna ou levanta uma exceção que não é tratada na própria função. (Na verdade, uma forma melhor de descrever o que realmente acontece é que o espaço de nomes local é “esquecido” quando a função termina.) Naturalmente, cada invocação recursiva de uma função tem seu próprio espaço de nomes."
   ]
  },
  {
   "attachments": {},
   "cell_type": "markdown",
   "metadata": {},
   "source": [
    "Um escopo é uma região textual de um programa Python onde um espaço de nomes é diretamente acessível. Aqui, *\"diretamente acessível\"* significa que uma referência sem um prefixo qualificador permite o acesso ao nome.\n",
    "\n",
    "Ainda que escopos sejam determinados estaticamente, eles são usados dinamicamente. A qualquer momento durante a execução, existem 3 ou 4 escopos aninhados cujos espaços de nomes são diretamente acessíveis:\n",
    "- o escopo mais interno, que é acessado primeiro, contem os nomes locais;\n",
    "- os escopos das funções que envolvem a função atual, que são acessados a partir do escopo mais próximo, contêm nomes não-locais, mas também não-globais;\n",
    "- o penúltimo escopo contém os nomes globais do módulo atual;\n",
    "- e o escopo mais externo (acessado por último) contém os nomes das funções embutidas e demais objetos pré-definidos do interpretador;"
   ]
  },
  {
   "attachments": {},
   "cell_type": "markdown",
   "metadata": {},
   "source": [
    "Se um nome é declarado no escopo global, então todas as referências e atribuições de valores vão diretamente para o penúltimo escopo, que contém os nomes globais do módulo. Para alterar variáveis declaradas fora do escopo mais interno, a instrução [nonlocal](https://docs.python.org/pt-br/3/reference/simple_stmts.html#nonlocal) pode ser usada; caso contrário, todas essas variáveis serão apenas para leitura (a tentativa de atribuir valores a essas variáveis simplesmente criará uma nova variável local, no escopo interno, não alterando nada na variável de nome idêntico fora dele).\n",
    "\n",
    "Normalmente, o escopo local referencia os nomes locais da função corrente no texto do programa. Fora de funções, o escopo local referencia os nomes do escopo global: espaço de nomes do módulo. Definições de classes adicionam um outro espaço de nomes ao escopo local."
   ]
  },
  {
   "attachments": {},
   "cell_type": "markdown",
   "metadata": {},
   "source": [
    "É importante perceber que escopos são determinados estaticamente, pelo texto do código-fonte: o escopo global de uma função definida em um módulo é o espaço de nomes deste módulo, sem importar de onde ou por qual apelido a função é invocada. Por outro lado, a busca de nomes é dinâmica, ocorrendo durante a execução. Porém, a evolução da linguagem está caminhando para uma resolução de nomes estática, em “tempo de compilação”, portanto não conte com a resolução dinâmica de nomes! (De fato, variáveis locais já são resolvidas estaticamente)."
   ]
  },
  {
   "attachments": {},
   "cell_type": "markdown",
   "metadata": {},
   "source": [
    "Uma peculiaridade especial do Python é que – se nenhuma instrução [global](https://docs.python.org/pt-br/3/reference/simple_stmts.html#global) ou [nonlocal](https://docs.python.org/pt-br/3/reference/simple_stmts.html#nonlocal) estiver em vigor – as atribuições de nomes sempre entram no escopo mais interno. As atribuições não copiam dados — elas apenas vinculam nomes aos objetos. O mesmo vale para exclusões: a instrução `del x` remove a ligação de `x` do espaço de nomes referenciado pelo escopo local. De fato, todas as operações que introduzem novos nomes usam o escopo local: em particular, instruções [import](https://docs.python.org/pt-br/3/reference/simple_stmts.html#import) e definições de funções ligam o módulo ou o nome da função no escopo local.\n",
    "\n",
    "A instrução [global](https://docs.python.org/pt-br/3/reference/simple_stmts.html#global) pode ser usada para indicar que certas variáveis residem no escopo global ao invés do local; a instrução [nonlocal](https://docs.python.org/pt-br/3/reference/simple_stmts.html#nonlocal) indica que variáveis particulares estão em um espoco mais interno e devem ser recuperadas lá."
   ]
  },
  {
   "attachments": {},
   "cell_type": "markdown",
   "metadata": {},
   "source": [
    "### 2.1. Exemplo de escopos e espaço de nomes"
   ]
  },
  {
   "attachments": {},
   "cell_type": "markdown",
   "metadata": {},
   "source": [
    "Este é um exemplo que demonstra como se referir aos diferentes escopos e aos espaços de nomes, e como [global](https://docs.python.org/pt-br/3/reference/simple_stmts.html#global) e [nonlocal](https://docs.python.org/pt-br/3/reference/simple_stmts.html#nonlocal) pode afetar ligação entre as variáveis."
   ]
  },
  {
   "cell_type": "code",
   "execution_count": 1,
   "metadata": {},
   "outputs": [
    {
     "name": "stdout",
     "output_type": "stream",
     "text": [
      "Depois da atribuição local : teste spam\n",
      "Depois da atribuição nonlocal : nonlocal spam\n",
      "Depois da atribuição global : nonlocal spam\n",
      "No escopo global : global spam\n"
     ]
    }
   ],
   "source": [
    "def teste_escopo():\n",
    "    def cria_local():\n",
    "        spam = \"local spam\"\n",
    "\n",
    "    def cria_nonlocal():\n",
    "        nonlocal spam\n",
    "        spam = \"nonlocal spam\"\n",
    "\n",
    "    def cria_global():\n",
    "        global spam\n",
    "        spam = \"global spam\"\n",
    "\n",
    "    spam = \"teste spam\"\n",
    "    cria_local()\n",
    "    print(\"Depois da atribuição local :\", spam)\n",
    "    cria_nonlocal()\n",
    "    print(\"Depois da atribuição nonlocal :\", spam)\n",
    "    cria_global()\n",
    "    print(\"Depois da atribuição global :\", spam)\n",
    "\n",
    "teste_escopo()\n",
    "print(\"No escopo global :\", spam)"
   ]
  },
  {
   "attachments": {},
   "cell_type": "markdown",
   "metadata": {},
   "source": [
    "A saída do código de exemplo é :\n",
    "\n",
    "`Depois da atribuição local : teste spam`<br>\n",
    "`Depois da atribuição nonlocal : nonlocal spam`<br>\n",
    "`Depois da atribuição global : nonlocal spam`<br>\n",
    "`No escopo global : global spam`"
   ]
  },
  {
   "attachments": {},
   "cell_type": "markdown",
   "metadata": {},
   "source": [
    "Observe como uma atribuição *local* (que é o padrão) não altera o vínculo de teste_escopo a spam. A instrução [nonlocal](https://docs.python.org/pt-br/3/reference/simple_stmts.html#nonlocal) mudou o vínculo de escopo_teste de spam e a atribuição [global](https://docs.python.org/pt-br/3/reference/simple_stmts.html#global) alterou a ligação para o nível do módulo.\n",
    "\n",
    "Você também pode ver que não havia nenhuma ligação anterior para spam antes da atribuição [global](https://docs.python.org/pt-br/3/reference/simple_stmts.html#global)."
   ]
  },
  {
   "attachments": {},
   "cell_type": "markdown",
   "metadata": {},
   "source": [
    "## 3. Uma primeira olhada nas classes"
   ]
  },
  {
   "attachments": {},
   "cell_type": "markdown",
   "metadata": {},
   "source": [
    "Classes introduzem novidades sintáticas, três novos tipos de objetos, e também alguma semântica nova."
   ]
  },
  {
   "attachments": {},
   "cell_type": "markdown",
   "metadata": {},
   "source": [
    "### 3.1. Sintaxe da definição de classe"
   ]
  },
  {
   "cell_type": "markdown",
   "metadata": {},
   "source": []
  },
  {
   "attachments": {},
   "cell_type": "markdown",
   "metadata": {},
   "source": [
    "## 1. Classe"
   ]
  },
  {
   "attachments": {},
   "cell_type": "markdown",
   "metadata": {},
   "source": [
    "São moldes para criar novos objetos. As classes geram novos objetos (instâncias) que podem ter seus próprios atributos e métodos.<br>\n",
    "Os objetos gerados pela classe pode usar seus dados internos para realizar várias ações.<br>\n",
    "Por convenção, usamos o **PascalCase** para nomes de classes."
   ]
  },
  {
   "cell_type": "code",
   "execution_count": null,
   "metadata": {},
   "outputs": [],
   "source": [
    "# nome é uma instância da classe str\n",
    "nome = 'fulano'\n",
    "print(nome.upper())\n",
    "\n",
    "print(isinstance(nome, str))"
   ]
  },
  {
   "attachments": {},
   "cell_type": "markdown",
   "metadata": {},
   "source": [
    "### 1.1. Criando a classe e atributos"
   ]
  },
  {
   "cell_type": "code",
   "execution_count": null,
   "metadata": {},
   "outputs": [],
   "source": [
    "class Pessoa:\n",
    "    ...\n",
    "\n",
    "pessoa1 = Pessoa()\n",
    "print(pessoa1)"
   ]
  },
  {
   "attachments": {},
   "cell_type": "markdown",
   "metadata": {},
   "source": [
    "O que são atributos ?<br>\n",
    "São propriedades que a minha classe vai possuir."
   ]
  },
  {
   "cell_type": "code",
   "execution_count": null,
   "metadata": {},
   "outputs": [],
   "source": [
    "class Pessoa:\n",
    "    ...\n",
    "\n",
    "p1 = Pessoa()\n",
    "p1.nome = 'fulano'\n",
    "p1.idade = 15\n",
    "\n",
    "print(p1)\n",
    "print(p1.nome)\n",
    "print(p1.idade)"
   ]
  },
  {
   "attachments": {},
   "cell_type": "markdown",
   "metadata": {},
   "source": [
    "Mas e se quisermos criar mais uma classe? Não fica prático repetir."
   ]
  },
  {
   "cell_type": "code",
   "execution_count": null,
   "metadata": {},
   "outputs": [],
   "source": [
    "class Pessoa:\n",
    "    ...\n",
    "\n",
    "p1 = Pessoa()\n",
    "p1.nome = 'fulano'\n",
    "p1.idade = 15\n",
    "p2 = Pessoa()\n",
    "p2.nome = 'ciclano'\n",
    "p2.idade = 22\n",
    "\n",
    "print(p1)\n",
    "print(p1.nome)\n",
    "print(p1.idade)\n",
    "\n",
    "print(p2)\n",
    "print(p2.nome)\n",
    "print(p2.idade)"
   ]
  },
  {
   "attachments": {},
   "cell_type": "markdown",
   "metadata": {},
   "source": [
    "### 1.2. \\_\\_init__ e self.."
   ]
  },
  {
   "cell_type": "code",
   "execution_count": null,
   "metadata": {},
   "outputs": [],
   "source": [
    "class Pessoa():\n",
    "    def __init__(self, nome, idade):\n",
    "        self.nome = nome\n",
    "        self.idade = idade\n",
    "\n",
    "p1 = Pessoa('fulano', 15)\n",
    "print(p1.nome)\n",
    "print(p1.idade)\n",
    "\n",
    "p2 = Pessoa('ciclano', 22)\n",
    "print(p2.nome)\n",
    "print(p2.idade)"
   ]
  },
  {
   "attachments": {},
   "cell_type": "markdown",
   "metadata": {},
   "source": [
    "### 1.3. Métodos"
   ]
  },
  {
   "attachments": {},
   "cell_type": "markdown",
   "metadata": {},
   "source": [
    "São os comportamentos da classe."
   ]
  },
  {
   "cell_type": "code",
   "execution_count": null,
   "metadata": {},
   "outputs": [],
   "source": [
    "class Carro():\n",
    "    def __init__(self):\n",
    "        # hard coded : quando tu escreve algo diretamente no código\n",
    "        self.nome = 'Fusca'\n",
    "\n",
    "fusca = Carro()\n",
    "print(fusca.nome)\n",
    "\n",
    "celta = Carro()\n",
    "print(celta.nome)"
   ]
  },
  {
   "attachments": {},
   "cell_type": "markdown",
   "metadata": {},
   "source": [
    "Deixando a criação mais flexível."
   ]
  },
  {
   "cell_type": "code",
   "execution_count": null,
   "metadata": {},
   "outputs": [],
   "source": [
    "class Carro():\n",
    "    def __init__(self, var='um carro'):\n",
    "        # hard coded : quando tu escreve algo diretamente no código\n",
    "        self.nome = var\n",
    "    \n",
    "    def buzinar(self):\n",
    "        print(f'{self.nome} está buzinando!')\n",
    "\n",
    "fusca = Carro('Fusca')\n",
    "print(fusca.nome)\n",
    "fusca.buzinar()\n",
    "\n",
    "celta = Carro(var='Celta')\n",
    "print(celta.nome)\n",
    "celta.buzinar()"
   ]
  },
  {
   "attachments": {},
   "cell_type": "markdown",
   "metadata": {},
   "source": [
    "### 1.4. self"
   ]
  },
  {
   "attachments": {},
   "cell_type": "markdown",
   "metadata": {},
   "source": [
    "O **self** é uma convenção quando se quer referenciar a própria instância.<br>\n",
    "Uma classe pode gerar várias instâncias. Na classe, o self é a própria instância."
   ]
  },
  {
   "cell_type": "code",
   "execution_count": null,
   "metadata": {},
   "outputs": [],
   "source": [
    "class Carro():\n",
    "    def __init__(ola, var='um carro'):\n",
    "        # hard coded : quando tu escreve algo diretamente no código\n",
    "        ola.nome = var\n",
    "    \n",
    "    def buzinar(fomfom):\n",
    "        print(f'{fomfom.nome} está buzinando!')\n",
    "\n",
    "fusca = Carro('Fusca')\n",
    "print(fusca.nome)\n",
    "fusca.buzinar()"
   ]
  },
  {
   "cell_type": "code",
   "execution_count": null,
   "metadata": {},
   "outputs": [],
   "source": [
    "class Carro():\n",
    "    def __init__(self, var='um carro'):\n",
    "        # hard coded : quando tu escreve algo diretamente no código\n",
    "        self.nome = var\n",
    "    \n",
    "    def buzinar(self):\n",
    "        print(f'{self.nome} está buzinando!')\n",
    "\n",
    "fusca = Carro('Fusca')\n",
    "fusca.buzinar()\n",
    "Carro.buzinar(fusca)"
   ]
  },
  {
   "attachments": {},
   "cell_type": "markdown",
   "metadata": {},
   "source": [
    "### 1.5. Escopos das Classes"
   ]
  },
  {
   "attachments": {},
   "cell_type": "markdown",
   "metadata": {},
   "source": [
    "Assim como as funções, as classes também tem escopos global e local."
   ]
  },
  {
   "cell_type": "code",
   "execution_count": null,
   "metadata": {},
   "outputs": [],
   "source": [
    "class Carro():\n",
    "    rodas = 4\n",
    "\n",
    "print(Carro.rodas)\n",
    "print(rodas)"
   ]
  },
  {
   "attachments": {},
   "cell_type": "markdown",
   "metadata": {},
   "source": [
    "Agora vai gerar erro, pois precisamos instanciar a classe para ter acesso aos seus atributos."
   ]
  },
  {
   "cell_type": "code",
   "execution_count": null,
   "metadata": {},
   "outputs": [],
   "source": [
    "class Carro():\n",
    "    def __init__(self, rodas):\n",
    "        self.rodas = rodas\n",
    "\n",
    "print(Carro.rodas)"
   ]
  },
  {
   "cell_type": "code",
   "execution_count": null,
   "metadata": {},
   "outputs": [],
   "source": [
    "class Carro():\n",
    "    def __init__(self, rodas):\n",
    "        self.rodas = rodas\n",
    "\n",
    "        nome = 'fulano'\n",
    "        print(nome)\n",
    "\n",
    "    def buzina(self):\n",
    "        print(f'O {nome} está buzinando!')\n",
    "\n",
    "fusca = Carro(4)\n",
    "print(fusca.rodas)\n",
    "fusca.buzina()"
   ]
  },
  {
   "attachments": {},
   "cell_type": "markdown",
   "metadata": {},
   "source": [
    "Um método de classe também pode receber um valor de fora da classe."
   ]
  },
  {
   "cell_type": "code",
   "execution_count": null,
   "metadata": {},
   "outputs": [],
   "source": [
    "class Carro():\n",
    "    def __init__(self, nome):\n",
    "        self.nome = nome\n",
    "\n",
    "        nome = 'fulano'\n",
    "        print(nome)\n",
    "\n",
    "    def buzina(self, lerdo='Lamborghini'):\n",
    "        print(f'O {self.nome} está buzinando para a {lerdo}')\n",
    "\n",
    "fusca = Carro('Fusca')\n",
    "fusca.buzina('Ferrari')\n",
    "fusca.buzina()"
   ]
  },
  {
   "attachments": {},
   "cell_type": "markdown",
   "metadata": {},
   "source": [
    "Usando o *args."
   ]
  },
  {
   "cell_type": "code",
   "execution_count": null,
   "metadata": {},
   "outputs": [],
   "source": [
    "class Carro():\n",
    "    def __init__(self, nome):\n",
    "        self.nome = nome\n",
    "\n",
    "    def buzina(self, lerdo='Lamborghini'):\n",
    "        return f'O {self.nome} está buzinando para a {lerdo}'\n",
    "    \n",
    "    def acao(self, *args):\n",
    "        return self.buzina(*args)\n",
    "\n",
    "fusca = Carro('Fusca')\n",
    "print(fusca.acao('Ferrari'))\n",
    "print(fusca.acao())"
   ]
  },
  {
   "attachments": {},
   "cell_type": "markdown",
   "metadata": {},
   "source": [
    "### 1.6. Estados Dentro da Classe"
   ]
  },
  {
   "attachments": {},
   "cell_type": "markdown",
   "metadata": {},
   "source": [
    "Mantendo estados dentro da classe."
   ]
  },
  {
   "cell_type": "code",
   "execution_count": null,
   "metadata": {},
   "outputs": [],
   "source": [
    "class Cachorro():\n",
    "    def __init__(self, nome, latindo=False):\n",
    "        self.nome = nome\n",
    "        self.latindo = latindo\n",
    "    \n",
    "    def latir(self):\n",
    "        if self.latindo:\n",
    "            print(f'O {self.nome} ainda está latindo!')\n",
    "            return\n",
    "        \n",
    "        print(f'O {self.nome} está latindo...')\n",
    "        self.latindo = True\n",
    "    \n",
    "    def parar_latir(self):\n",
    "        if not self.latindo:\n",
    "            print(f'O {self.nome} não está latindo!')\n",
    "            return\n",
    "        \n",
    "        print(f'O {self.nome} está parando de latir...')\n",
    "        self.latindo = False\n",
    "    \n",
    "    def roncar(self):\n",
    "        if self.latindo:\n",
    "            print(f'O {self.nome} não pode roncar enquanto late!')\n",
    "            return\n",
    "        \n",
    "        print(f'O {self.nome} está roncando...')\n",
    "\n",
    "fido = Cachorro('Fido')\n",
    "rex = Cachorro('Rex')\n",
    "\n",
    "fido.latir()\n",
    "fido.latir()\n",
    "fido.roncar()\n",
    "fido.parar_latir()\n",
    "fido.roncar()"
   ]
  },
  {
   "attachments": {},
   "cell_type": "markdown",
   "metadata": {},
   "source": [
    "### 1.7. Atributos de Classe"
   ]
  },
  {
   "attachments": {},
   "cell_type": "markdown",
   "metadata": {},
   "source": [
    "São variáveis que são ligadas à classe."
   ]
  },
  {
   "cell_type": "code",
   "execution_count": null,
   "metadata": {},
   "outputs": [],
   "source": [
    "class Pessoa():\n",
    "    ano_atual = 2023\n",
    "\n",
    "    def __init__(self, nome, idade):\n",
    "        self.nome = nome\n",
    "        self.idade = idade\n",
    "\n",
    "    def get_ano_nasc(self):\n",
    "        return Pessoa.ano_atual - self.idade\n",
    "\n",
    "p1 = Pessoa('João', 65)\n",
    "p2 = Pessoa('Almeida', 25)\n",
    "print(f'{Pessoa.ano_atual = }')\n",
    "\n",
    "print(p1.get_ano_nasc())\n",
    "print(p2.get_ano_nasc())\n",
    "print(p1.__dict__)"
   ]
  },
  {
   "attachments": {},
   "cell_type": "markdown",
   "metadata": {},
   "source": [
    "### 1.8. \\_\\_dict__ e vars()"
   ]
  },
  {
   "attachments": {},
   "cell_type": "markdown",
   "metadata": {},
   "source": [
    "São maneiras de ver os atributos e valores de uma instância."
   ]
  },
  {
   "cell_type": "code",
   "execution_count": null,
   "metadata": {},
   "outputs": [],
   "source": [
    "class Pessoa():\n",
    "    ano_atual = 2023\n",
    "\n",
    "    def __init__(self, nome, idade):\n",
    "        self.nome = nome\n",
    "        self.idade = idade\n",
    "\n",
    "    def get_ano_nasc(self):\n",
    "        return Pessoa.ano_atual - self.idade\n",
    "\n",
    "p1 = Pessoa('João', 65)\n",
    "print(p1.__dict__)\n",
    "print(vars(p1))\n",
    "\n",
    "# ele pode ser editável, mas não é comum\n",
    "p1.__dict__['novo'] = 'atributo'\n",
    "print(p1.__dict__)\n",
    "print(vars(p1))\n",
    "\n",
    "# ou apagável\n",
    "del p1.__dict__['idade']\n",
    "print(p1.__dict__)\n",
    "print(vars(p1))"
   ]
  },
  {
   "attachments": {},
   "cell_type": "markdown",
   "metadata": {},
   "source": [
    "Também é possível passar os dados de um dicionário para o objeto e criar (ou recriar) uma instância com eles."
   ]
  },
  {
   "cell_type": "code",
   "execution_count": null,
   "metadata": {},
   "outputs": [
    {
     "name": "stdout",
     "output_type": "stream",
     "text": [
      "João\n",
      "65\n"
     ]
    }
   ],
   "source": [
    "class Pessoa():\n",
    "    ano_atual = 2023\n",
    "\n",
    "    def __init__(self, nome, idade):\n",
    "        self.nome = nome\n",
    "        self.idade = idade\n",
    "\n",
    "    def get_ano_nasc(self):\n",
    "        return Pessoa.ano_atual - self.idade\n",
    "\n",
    "dados = {'nome': 'João', 'idade': 65}\n",
    "p1 = Pessoa(**dados)\n",
    "print(p1.nome)\n",
    "print(p1.idade)\n"
   ]
  }
 ],
 "metadata": {
  "kernelspec": {
   "display_name": ".venv",
   "language": "python",
   "name": "python3"
  },
  "language_info": {
   "codemirror_mode": {
    "name": "ipython",
    "version": 3
   },
   "file_extension": ".py",
   "mimetype": "text/x-python",
   "name": "python",
   "nbconvert_exporter": "python",
   "pygments_lexer": "ipython3",
   "version": "3.11.0rc2 (main, Sep 12 2022, 16:20:24) [GCC 12.2.0]"
  },
  "orig_nbformat": 4,
  "vscode": {
   "interpreter": {
    "hash": "bbc14903978b54b3c4b75c2857a69f4947f01bbeef08a6c41d0621ece77796cc"
   }
  }
 },
 "nbformat": 4,
 "nbformat_minor": 2
}
