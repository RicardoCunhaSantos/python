{
 "cells": [
  {
   "attachments": {},
   "cell_type": "markdown",
   "metadata": {},
   "source": [
    "# Ferramentas de Controle de Fluxo"
   ]
  },
  {
   "attachments": {},
   "cell_type": "markdown",
   "metadata": {},
   "source": [
    "O Python possui diversas ferramentas de controle de fluxo de código.<br>\n",
    "São elas :\n",
    "- `if..elif..else`\n",
    "- `while..else`\n",
    "- `for..else`\n",
    "- `match..case`"
   ]
  },
  {
   "attachments": {},
   "cell_type": "markdown",
   "metadata": {},
   "source": [
    "# 1. if..elif..else"
   ]
  },
  {
   "attachments": {},
   "cell_type": "markdown",
   "metadata": {},
   "source": [
    "Usamos o `if..elif..else` para criarmos diversar condições para nosso programa."
   ]
  },
  {
   "cell_type": "code",
   "execution_count": null,
   "metadata": {},
   "outputs": [],
   "source": [
    "num = int(input('Digite um número : '))\n",
    "\n",
    "if num < 0:\n",
    "    print(f'O valor {num} é negativo.')\n",
    "elif num == 0:\n",
    "    print(f'O valor {num} é zero.')\n",
    "elif num == 42:\n",
    "    print(f'Este número é a resposta para a Grande Pergunta sobre a Vida, o Universo e Tudo o Mais!')\n",
    "else:\n",
    "    print(f'O valor {num} é positivo.')"
   ]
  },
  {
   "attachments": {},
   "cell_type": "markdown",
   "metadata": {},
   "source": [
    "Também podemos usar o `if..else` em uma linha."
   ]
  },
  {
   "attachments": {},
   "cell_type": "markdown",
   "metadata": {},
   "source": [
    "## Estrutura Ternária"
   ]
  },
  {
   "attachments": {},
   "cell_type": "markdown",
   "metadata": {},
   "source": [
    "É quando usamos a condição if em apenas uma linha.<br>\n",
    "```\n",
    "<valor> if <condição> else <outro valor>\n",
    "```"
   ]
  },
  {
   "cell_type": "code",
   "execution_count": null,
   "metadata": {},
   "outputs": [],
   "source": [
    "print('Valor' if False else 'Outro Valor')\n",
    "\n",
    "condicao = 10 == 10\n",
    "variavel = 'Valor' if condicao else 'Outro Valor'\n",
    "print(variavel)\n",
    "\n",
    "condicao = 10 == 1\n",
    "variavel = 'Valor' if condicao else 'Outro Valor'\n",
    "print(variavel)"
   ]
  },
  {
   "cell_type": "code",
   "execution_count": null,
   "metadata": {},
   "outputs": [],
   "source": [
    "n1 = float(input('Digite a primeira nota : '))\n",
    "n2 = float(input('Digite a segunda nota : '))\n",
    "\n",
    "media = (n1 + n2) / 2\n",
    "print('Sua nota final é {:.2f}'.format(media))\n",
    "\n",
    "if media >= 7:\n",
    "    print('aprovado'.upper())\n",
    "else:\n",
    "    print('reprovado'.upper())\n",
    "\n",
    "resultado = 'APROVADO' if media >= 7 else 'REPROVADO'\n",
    "print(resultado)"
   ]
  },
  {
   "attachments": {},
   "cell_type": "markdown",
   "metadata": {},
   "source": [
    "A estrutura pode ser encadeada com diversos **if..else** em linha, mas isso pode ficar muito confuso."
   ]
  },
  {
   "cell_type": "code",
   "execution_count": null,
   "metadata": {},
   "outputs": [],
   "source": [
    "nota = 95\n",
    "\n",
    "resultado = 'Nota = A+' if nota > 90 else 'Nota = A' if nota > 80 else 'Nota = B' if nota > 70 else 'Nota = C' if nota > 60 else 'Nota = D' if  nota > 40 else 'Reprovado'\n",
    "print(resultado)\n",
    "\n",
    "# abaixo temos a mesma estrutura usando parênteses para vermos melhor os grupos de if..else\n",
    "resultado = ('Nota = A+' if nota > 90 else ('Nota = A' if nota > 80 else ('Nota = B' if nota > 70 else ('Nota = C' if nota > 60 else ('Nota = D' if  nota > 40 else 'Reprovado')))))\n",
    "print(resultado)"
   ]
  },
  {
   "attachments": {},
   "cell_type": "markdown",
   "metadata": {},
   "source": [
    "## Links"
   ]
  },
  {
   "attachments": {},
   "cell_type": "markdown",
   "metadata": {},
   "source": [
    "- https://docs.python.org/3/tutorial/controlflow.html#if-statements\n",
    "- https://docs.python.org/3/reference/compound_stmts.html#the-if-statement"
   ]
  },
  {
   "attachments": {},
   "cell_type": "markdown",
   "metadata": {},
   "source": [
    "# 2. while"
   ]
  },
  {
   "attachments": {},
   "cell_type": "markdown",
   "metadata": {},
   "source": [
    "O **while** é usado para execuções repetidas enquando a condição for verdadeira (**True**)."
   ]
  },
  {
   "cell_type": "code",
   "execution_count": null,
   "metadata": {},
   "outputs": [],
   "source": [
    "i = 0\n",
    "while i < 10:\n",
    "    print(i, end=' ')\n",
    "    i += 1"
   ]
  },
  {
   "attachments": {},
   "cell_type": "markdown",
   "metadata": {},
   "source": [
    "Também podemos deixar a condição de saída dinâmica, pedindo para o usuário quando ele quer interromper a repetição."
   ]
  },
  {
   "cell_type": "code",
   "execution_count": null,
   "metadata": {},
   "outputs": [],
   "source": [
    "sair = 'N'\n",
    "while sair != 'S':\n",
    "    num = int(input('Digite um número : '))\n",
    "    print(f'Você digitou {num}.\\n')\n",
    "    \n",
    "    sair = input('Quer sair? [n]ão ou [s]im ').upper()[0]\n",
    "print('acabou o while loop')"
   ]
  },
  {
   "attachments": {},
   "cell_type": "markdown",
   "metadata": {},
   "source": [
    "Podemos adicionar uma cláusula **else** ao final do **while**. Ele será executado apenas quando a repetição for finalizada."
   ]
  },
  {
   "cell_type": "code",
   "execution_count": null,
   "metadata": {},
   "outputs": [],
   "source": [
    "i = 0\n",
    "\n",
    "while i < 10:\n",
    "    print(f'{i} ', end=' ')\n",
    "    i += 1\n",
    "else:\n",
    "    print(f'\\nO valor final da variável i é : {i}')"
   ]
  },
  {
   "attachments": {},
   "cell_type": "markdown",
   "metadata": {},
   "source": [
    "## Links"
   ]
  },
  {
   "attachments": {},
   "cell_type": "markdown",
   "metadata": {},
   "source": [
    "- https://docs.python.org/3/tutorial/introduction.html#first-steps-towards-programming\n",
    "- https://docs.python.org/3/reference/compound_stmts.html#the-while-statement"
   ]
  },
  {
   "attachments": {},
   "cell_type": "markdown",
   "metadata": {},
   "source": [
    "# 3. for"
   ]
  },
  {
   "attachments": {},
   "cell_type": "markdown",
   "metadata": {},
   "source": [
    "Diferente de outras linguagens de programação, o **for** no Python funciona iterando sobre todos os elementos de uma sequência (como uma lista ou uma string) na ordem que eles aparecem na sequência."
   ]
  },
  {
   "cell_type": "code",
   "execution_count": null,
   "metadata": {},
   "outputs": [],
   "source": [
    "animais = ['gato', 'cão', 'cavalo', 'caturrita']\n",
    "\n",
    "for animal in animais:\n",
    "    print(f'A palavra {animal} tem {len(animal)} letras.')"
   ]
  },
  {
   "cell_type": "code",
   "execution_count": null,
   "metadata": {},
   "outputs": [],
   "source": [
    "palavra = 'supercalifragilisticexpialidocious'\n",
    "\n",
    "for letra in palavra:\n",
    "    print(f'{letra} ', end='')"
   ]
  },
  {
   "attachments": {},
   "cell_type": "markdown",
   "metadata": {},
   "source": [
    "## Links"
   ]
  },
  {
   "attachments": {},
   "cell_type": "markdown",
   "metadata": {},
   "source": [
    "- https://docs.python.org/3/tutorial/controlflow.html#for-statements\n",
    "- https://docs.python.org/3/reference/compound_stmts.html#the-for-statement"
   ]
  },
  {
   "attachments": {},
   "cell_type": "markdown",
   "metadata": {},
   "source": [
    "# 4. range()"
   ]
  },
  {
   "attachments": {},
   "cell_type": "markdown",
   "metadata": {},
   "source": [
    "Existe uma função que pode ser muito útil para lidarmos com o **for** ou **while**. É a função **range()**.<br>\n",
    "Ela aceita 3 parâmetros, sendo o segundo e terceiro opcionais. São eles :\n",
    "- start : indica em que número deve iniciar a contagem;\n",
    "- stop : indica até que número deve seguir a contagem, sem incluir esse último número;\n",
    "- step : indica qual é o incremento que o range deve seguir (o padrão é 1);\n",
    "<br><br>\n",
    "**PS** : quando se usa o **range()** com apenas um valor, ele será o **stop**."
   ]
  },
  {
   "cell_type": "code",
   "execution_count": null,
   "metadata": {},
   "outputs": [],
   "source": [
    "print(f'{list(range(10)) = }')\n",
    "print(f'{list(range(1, 11)) = }')\n",
    "print(f'{list(range(3, 30, 5)) = }')\n",
    "print(f'{list(range(50, 1, -4)) = }')\n",
    "print(f'{list(range(0)) = }')\n",
    "print(f'{list(range(10, 0)) = }')"
   ]
  },
  {
   "cell_type": "code",
   "execution_count": null,
   "metadata": {},
   "outputs": [],
   "source": [
    "inicio = int(input('Início : '))\n",
    "fim = int(input('Fim : '))\n",
    "passo = int(input('Passo : '))\n",
    "\n",
    "print(f'{list(range(inicio, fim, passo)) = }')"
   ]
  },
  {
   "attachments": {},
   "cell_type": "markdown",
   "metadata": {},
   "source": [
    "Usando o **range()** junto com um **for**."
   ]
  },
  {
   "cell_type": "code",
   "execution_count": null,
   "metadata": {},
   "outputs": [],
   "source": [
    "for i in range(5):\n",
    "    print(i)"
   ]
  },
  {
   "attachments": {},
   "cell_type": "markdown",
   "metadata": {},
   "source": [
    "Também podemos iterar sobre os índices de uma sequência combinando o **range()** com o **len()**."
   ]
  },
  {
   "cell_type": "code",
   "execution_count": null,
   "metadata": {},
   "outputs": [],
   "source": [
    "animais = ['gato', 'cão', 'cavalo', 'caturrita']\n",
    "\n",
    "for i in range(len(animais)):\n",
    "    print(i, animais[i])"
   ]
  },
  {
   "attachments": {},
   "cell_type": "markdown",
   "metadata": {},
   "source": [
    "Apesar do **range()** se comportar como uma lista, ele não é. Ele é um objeto que retorna sucessivos itens em uma desejada sequência quando você itera sobre eles. Mas ele, efetivamente, não cria uma lista, o que é muito mais eficiente e salva espaço."
   ]
  },
  {
   "attachments": {},
   "cell_type": "markdown",
   "metadata": {},
   "source": [
    "Dizemos que um objeto é iterável quando ele tem suscetíveis itens que podem ser usados até o final. Veremos mais sobre isso adiante."
   ]
  },
  {
   "cell_type": "code",
   "execution_count": null,
   "metadata": {},
   "outputs": [],
   "source": [
    "print(sum(range(10)))"
   ]
  },
  {
   "attachments": {},
   "cell_type": "markdown",
   "metadata": {},
   "source": [
    "Mostrando a tabuada com um **for** dentro do outro."
   ]
  },
  {
   "cell_type": "code",
   "execution_count": null,
   "metadata": {},
   "outputs": [],
   "source": [
    "for i in range(1, 11):\n",
    "    for j in range(1, 11):\n",
    "        print(f'{i:02d} X {j:02d} = {i*j:02d} |', end=' ')\n",
    "    print()"
   ]
  },
  {
   "attachments": {},
   "cell_type": "markdown",
   "metadata": {},
   "source": [
    "## Links"
   ]
  },
  {
   "attachments": {},
   "cell_type": "markdown",
   "metadata": {},
   "source": [
    "- https://docs.python.org/3/tutorial/controlflow.html#the-range-function\n",
    "- https://docs.python.org/3/library/stdtypes.html#range"
   ]
  },
  {
   "attachments": {},
   "cell_type": "markdown",
   "metadata": {},
   "source": [
    "# 5. break e continue e else em loops"
   ]
  },
  {
   "attachments": {},
   "cell_type": "markdown",
   "metadata": {},
   "source": [
    "## 5.1. break"
   ]
  },
  {
   "attachments": {},
   "cell_type": "markdown",
   "metadata": {},
   "source": [
    "**break** é usado para interromper um loop **for** ou **while** antes que a condição real de parada seja executada."
   ]
  },
  {
   "attachments": {},
   "cell_type": "markdown",
   "metadata": {},
   "source": [
    "Abaixo há dois exemplos de **for** e **while** sendo interrompidos antes que a contagem chegue em 9."
   ]
  },
  {
   "cell_type": "code",
   "execution_count": null,
   "metadata": {},
   "outputs": [],
   "source": [
    "for i in range(10):\n",
    "    print(i, end=' ')\n",
    "    if i == 5:\n",
    "        break"
   ]
  },
  {
   "cell_type": "code",
   "execution_count": null,
   "metadata": {},
   "outputs": [],
   "source": [
    "i = 0\n",
    "while i < 10:\n",
    "    print(i, end=' ')\n",
    "    if i == 5:\n",
    "        break\n",
    "    i += 1"
   ]
  },
  {
   "attachments": {},
   "cell_type": "markdown",
   "metadata": {},
   "source": [
    "## 5.2. continue"
   ]
  },
  {
   "attachments": {},
   "cell_type": "markdown",
   "metadata": {},
   "source": [
    "Já o **continue** é usado quando queremos que a repetição vá para a próxima repetição sem executar ela até o final."
   ]
  },
  {
   "attachments": {},
   "cell_type": "markdown",
   "metadata": {},
   "source": [
    "Abaixo há dois exemplos de **for** e **while** que não mostram os valores pares."
   ]
  },
  {
   "cell_type": "code",
   "execution_count": null,
   "metadata": {},
   "outputs": [],
   "source": [
    "for i in range(10):\n",
    "    if i % 2 == 0:\n",
    "        continue\n",
    "    print(i, end=' ')"
   ]
  },
  {
   "cell_type": "code",
   "execution_count": null,
   "metadata": {},
   "outputs": [],
   "source": [
    "i = -1\n",
    "while i < 10:\n",
    "    i += 1\n",
    "    if i % 2 == 0:\n",
    "        continue\n",
    "    print(i, end=' ')"
   ]
  },
  {
   "attachments": {},
   "cell_type": "markdown",
   "metadata": {},
   "source": [
    "Usando o **continue** para mostrar se o número é par ou ímpar."
   ]
  },
  {
   "cell_type": "code",
   "execution_count": null,
   "metadata": {},
   "outputs": [],
   "source": [
    "for num in range(2, 10):\n",
    "    if num % 2 == 0:\n",
    "        print(f'Encontrei um número par : {num}')\n",
    "        continue\n",
    "    print(f'Encontrei um número ímpar : {num}')"
   ]
  },
  {
   "attachments": {},
   "cell_type": "markdown",
   "metadata": {},
   "source": [
    "Abaixo temos um contador e um acumulador, que aceita apenas números positivos, em um **while** que só é interrompido quando o usuário digita 0."
   ]
  },
  {
   "cell_type": "code",
   "execution_count": null,
   "metadata": {},
   "outputs": [],
   "source": [
    "num = 0\n",
    "acumulador = 0\n",
    "contador = 0\n",
    "\n",
    "while True:\n",
    "    num = int(input('Digite qualquer número inteiro positivo ou 0 para sair: '))\n",
    "\n",
    "    if num < 0:\n",
    "        print('Digite apenas números inteiros e positivos!')\n",
    "        continue\n",
    "    if num == 0:\n",
    "        print('Interrompendo o while.')\n",
    "        break\n",
    "    \n",
    "    acumulador += num\n",
    "    contador += 1\n",
    "print(f'A soma de todos os {contador} números é : {acumulador}')"
   ]
  },
  {
   "attachments": {},
   "cell_type": "markdown",
   "metadata": {},
   "source": [
    "## 5.3. else"
   ]
  },
  {
   "attachments": {},
   "cell_type": "markdown",
   "metadata": {},
   "source": [
    "Os laços de repetição podem ter uma cláusula **else**, que é executada quando a repetição é finalizada pela exaustão do iterador (com **for**) ou quando a condição de repetição se torna falsa (com **while**), mas não quando a repetição é encerrada ao se utilizar um **break**.<br>\n",
    "Isso pode ser visto na repetição abaixo, que realiza uma busca por números primos :"
   ]
  },
  {
   "cell_type": "code",
   "execution_count": null,
   "metadata": {},
   "outputs": [],
   "source": [
    "for testa_primo in range(2, 50):\n",
    "    for fator in range(2, testa_primo):\n",
    "        if testa_primo % fator == 0:\n",
    "            print(f'{testa_primo} = {fator} * {testa_primo//fator}')\n",
    "            # este break vai agir apenas no for que vem logo antes\n",
    "            # e não em todos\n",
    "            break\n",
    "    else:\n",
    "        # a repetição cai aqui apenas quando não é encontrado um fator\n",
    "        print(f'{testa_primo} é um número primo')"
   ]
  },
  {
   "attachments": {},
   "cell_type": "markdown",
   "metadata": {},
   "source": [
    "Lembrando : Para identificar um número primo devemos dividi-lo sucessivamente por números primos como: 2, 3, 5. . . e verificar se a divisão é exata (em que o resto é zero) ou não exata (onde o resto é diferente de zero).\n",
    "- Se o resto da divisão for zero o número não é primo.\n",
    "- Se nenhum resto for zero, o número é primo."
   ]
  },
  {
   "attachments": {},
   "cell_type": "markdown",
   "metadata": {},
   "source": [
    "## Links"
   ]
  },
  {
   "attachments": {},
   "cell_type": "markdown",
   "metadata": {},
   "source": [
    "- https://docs.python.org/3/tutorial/controlflow.html#break-and-continue-statements-and-else-clauses-on-loops\n",
    "- https://docs.python.org/3/reference/simple_stmts.html#break\n",
    "- https://docs.python.org/3/reference/simple_stmts.html#continue"
   ]
  },
  {
   "attachments": {},
   "cell_type": "markdown",
   "metadata": {},
   "source": [
    "# 6. pass"
   ]
  },
  {
   "attachments": {},
   "cell_type": "markdown",
   "metadata": {},
   "source": [
    "O **pass** não faz nada. Ele pode ser usado quando uma declaração é requerida, mas não é necessária uma ação."
   ]
  },
  {
   "cell_type": "code",
   "execution_count": null,
   "metadata": {},
   "outputs": [],
   "source": [
    "class UmaClasse:\n",
    "    pass"
   ]
  },
  {
   "cell_type": "code",
   "execution_count": null,
   "metadata": {},
   "outputs": [],
   "source": [
    "def uma_funcao(*args):\n",
    "    pass"
   ]
  },
  {
   "attachments": {},
   "cell_type": "markdown",
   "metadata": {},
   "source": [
    "## Links"
   ]
  },
  {
   "attachments": {},
   "cell_type": "markdown",
   "metadata": {},
   "source": [
    "- https://docs.python.org/3/tutorial/controlflow.html#pass-statements\n",
    "- https://docs.python.org/3/reference/simple_stmts.html#pass"
   ]
  },
  {
   "attachments": {},
   "cell_type": "markdown",
   "metadata": {},
   "source": [
    "# 7. match"
   ]
  },
  {
   "attachments": {},
   "cell_type": "markdown",
   "metadata": {},
   "source": [
    "O **match** pega uma expressão e compara seu valor com sucessivos padrões definidos em um ou mais blocos **case**. Ele se assemelha muito ao switch, de linguagens como C, C++, Java, JavaScript, mas é mais similar aos padrões de comparação de linguagens como Rust ou Haskell."
   ]
  },
  {
   "cell_type": "code",
   "execution_count": null,
   "metadata": {},
   "outputs": [],
   "source": [
    "# usando os dias da semana com if..else\n",
    "dia = int(input('Digite um número entre 1 e 7 : '))\n",
    "\n",
    "if dia == 1:\n",
    "    print('Domingo')\n",
    "elif dia == 2:\n",
    "    print('Segunda-feira')\n",
    "elif dia == 3:\n",
    "    print('Terça-feira')\n",
    "elif dia == 4:\n",
    "    print('Quarta-feira')\n",
    "elif dia == 5:\n",
    "    print('Quinta-feira')\n",
    "elif dia == 6:\n",
    "    print('Sexta-feira')\n",
    "elif dia == 7:\n",
    "    print('Sábado')\n",
    "else:\n",
    "    print('Não sei que dia é esse.')\n"
   ]
  },
  {
   "cell_type": "code",
   "execution_count": null,
   "metadata": {},
   "outputs": [],
   "source": [
    "# usando a mesma lógica acima, mas com match\n",
    "dia = int(input('Digite um número entre 1 e 7 : '))\n",
    "\n",
    "match dia:\n",
    "    case 1:\n",
    "        print('Domingo')\n",
    "    case 2:\n",
    "        print('Segunda-feira')\n",
    "    case 3:\n",
    "        print('Terça-feira')\n",
    "    case 4:\n",
    "        print('Quarta-feira')\n",
    "    case 5:\n",
    "        print('Quinta-feira')\n",
    "    case 6:\n",
    "        print('Sexta-feira')\n",
    "    case 7:\n",
    "        print('Sábado')\n",
    "    case _:\n",
    "        print('Não sei que dia é esse.')\n"
   ]
  },
  {
   "cell_type": "code",
   "execution_count": null,
   "metadata": {},
   "outputs": [],
   "source": [
    "# definindo como dias da semana\n",
    "dia = int(input('Digite um número entre 1 e 7 : '))\n",
    "\n",
    "match dia:\n",
    "    case 1 | 7:\n",
    "        print('Fim de semana!')\n",
    "    case 2 | 3 | 4 | 5 | 6:\n",
    "        print('Dia útil!')\n",
    "    case _:\n",
    "        print('Não sei que dia é esse.')"
   ]
  },
  {
   "attachments": {},
   "cell_type": "markdown",
   "metadata": {},
   "source": [
    "## Links"
   ]
  },
  {
   "attachments": {},
   "cell_type": "markdown",
   "metadata": {},
   "source": [
    "- https://docs.python.org/3/tutorial/controlflow.html#match-statements\n",
    "- https://docs.python.org/3/reference/compound_stmts.html#match\n",
    "- https://peps.python.org/pep-0636/"
   ]
  }
 ],
 "metadata": {
  "kernelspec": {
   "display_name": ".venv",
   "language": "python",
   "name": "python3"
  },
  "language_info": {
   "codemirror_mode": {
    "name": "ipython",
    "version": 3
   },
   "file_extension": ".py",
   "mimetype": "text/x-python",
   "name": "python",
   "nbconvert_exporter": "python",
   "pygments_lexer": "ipython3",
   "version": "3.11.1 (tags/v3.11.1:a7a450f, Dec  6 2022, 19:58:39) [MSC v.1934 64 bit (AMD64)]"
  },
  "orig_nbformat": 4,
  "vscode": {
   "interpreter": {
    "hash": "68f6cf9ddf20b8330c35f9eb8d38bef7105e3b161f09b6b7e5f8b2d3944d5325"
   }
  }
 },
 "nbformat": 4,
 "nbformat_minor": 2
}
